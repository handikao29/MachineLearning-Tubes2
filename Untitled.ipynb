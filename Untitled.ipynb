{
 "cells": [
  {
   "cell_type": "code",
   "execution_count": 62,
   "metadata": {},
   "outputs": [],
   "source": [
    "import random\n",
    "\n",
    "class NN:\n",
    "\n",
    "    def __init__(self, data, label, epoch, momentum, batch_size):\n",
    "        self.data = data\n",
    "        self.label = label\n",
    "        self.epoch = epoch\n",
    "        self.momentum = momentum\n",
    "        self.batch_size = batch_size\n",
    "        self.n_hidden_layer = 0\n",
    "        self.hidden_layer = []\n",
    "\n",
    "    def add(self,unit):\n",
    "        if self.n_hidden_layer < 10:\n",
    "            self.hidden_layer.append(unit)\n",
    "            self.n_hidden_layer +=1\n",
    "\n",
    "    def fit(self, x, y):\n",
    "        self.array_of_node = []\n",
    "        self.num_node = 0\n",
    "        input_node = len(x[0])\n",
    "        input_array = []\n",
    "        for i in range(input_node):\n",
    "            input_array.append(i)\n",
    "            self.num_node += 1\n",
    "        self.node_per_layer = []\n",
    "        # self.index_per_layer =\n",
    "        self.index_per_layer = [[]]\n",
    "        self.index_per_layer.append(input_array)\n",
    "        self.index_per_layer.remove([])\n",
    "\n",
    "        # add hidden layer\n",
    "        for n_node in self.hidden_layer:\n",
    "            # print (\"n_node\", n_node)\n",
    "            temp_array = []\n",
    "            temp_val = self.num_node\n",
    "            for i in range(n_node):\n",
    "                temp_array.append(i+self.num_node)\n",
    "                # self.num_node += 1\n",
    "                temp_val += 1\n",
    "            self.num_node = temp_val\n",
    "            self.index_per_layer.append(temp_array)\n",
    "\n",
    "        # add output layer\n",
    "        output_array = [self.num_node]\n",
    "        self.index_per_layer.append(output_array)\n",
    "\n",
    "        # print (self.index_per_layer)\n",
    "\n",
    "        # create adjacent matrix\n",
    "\n",
    "        self.adjacent_matrix = [[0] * self.num_node] * self.num_node\n",
    "        for row in range(self.num_node):\n",
    "            for column in range(row+1):\n",
    "                self.adjacent_matrix[row][column] = random.randint(-0.05, 0.05)\n",
    "        # for x in range(10):\n",
    "        #   print random.randint(1,101)\n",
    "\n",
    "        print (self.adjacent_matrix)\n"
   ]
  },
  {
   "cell_type": "code",
   "execution_count": 63,
   "metadata": {},
   "outputs": [
    {
     "name": "stdout",
     "output_type": "stream",
     "text": [
      "2\n",
      "[10, 20]\n",
      "wkwkwk\n"
     ]
    },
    {
     "ename": "ValueError",
     "evalue": "non-integer arg 1 for randrange()",
     "output_type": "error",
     "traceback": [
      "\u001b[1;31m---------------------------------------------------------------------------\u001b[0m",
      "\u001b[1;31mValueError\u001b[0m                                Traceback (most recent call last)",
      "\u001b[1;32m<ipython-input-63-bfcbf66d4892>\u001b[0m in \u001b[0;36m<module>\u001b[1;34m\u001b[0m\n\u001b[0;32m     11\u001b[0m \u001b[1;33m\u001b[0m\u001b[0m\n\u001b[0;32m     12\u001b[0m \u001b[0mprint\u001b[0m \u001b[1;33m(\u001b[0m\u001b[1;34m\"wkwkwk\"\u001b[0m\u001b[1;33m)\u001b[0m\u001b[1;33m\u001b[0m\u001b[0m\n\u001b[1;32m---> 13\u001b[1;33m \u001b[0mwew\u001b[0m\u001b[1;33m.\u001b[0m\u001b[0mfit\u001b[0m\u001b[1;33m(\u001b[0m\u001b[0mar\u001b[0m\u001b[1;33m,\u001b[0m \u001b[0mar\u001b[0m\u001b[1;33m)\u001b[0m\u001b[1;33m\u001b[0m\u001b[0m\n\u001b[0m",
      "\u001b[1;32m<ipython-input-62-122053ffc9bd>\u001b[0m in \u001b[0;36mfit\u001b[1;34m(self, x, y)\u001b[0m\n\u001b[0;32m     54\u001b[0m         \u001b[1;32mfor\u001b[0m \u001b[0mrow\u001b[0m \u001b[1;32min\u001b[0m \u001b[0mrange\u001b[0m\u001b[1;33m(\u001b[0m\u001b[0mself\u001b[0m\u001b[1;33m.\u001b[0m\u001b[0mnum_node\u001b[0m\u001b[1;33m)\u001b[0m\u001b[1;33m:\u001b[0m\u001b[1;33m\u001b[0m\u001b[0m\n\u001b[0;32m     55\u001b[0m             \u001b[1;32mfor\u001b[0m \u001b[0mcolumn\u001b[0m \u001b[1;32min\u001b[0m \u001b[0mrange\u001b[0m\u001b[1;33m(\u001b[0m\u001b[0mrow\u001b[0m\u001b[1;33m+\u001b[0m\u001b[1;36m1\u001b[0m\u001b[1;33m)\u001b[0m\u001b[1;33m:\u001b[0m\u001b[1;33m\u001b[0m\u001b[0m\n\u001b[1;32m---> 56\u001b[1;33m                 \u001b[0mself\u001b[0m\u001b[1;33m.\u001b[0m\u001b[0madjacent_matrix\u001b[0m\u001b[1;33m[\u001b[0m\u001b[0mrow\u001b[0m\u001b[1;33m]\u001b[0m\u001b[1;33m[\u001b[0m\u001b[0mcolumn\u001b[0m\u001b[1;33m]\u001b[0m \u001b[1;33m=\u001b[0m \u001b[0mrandom\u001b[0m\u001b[1;33m.\u001b[0m\u001b[0mrandint\u001b[0m\u001b[1;33m(\u001b[0m\u001b[1;33m-\u001b[0m\u001b[1;36m0.05\u001b[0m\u001b[1;33m,\u001b[0m \u001b[1;36m0.05\u001b[0m\u001b[1;33m)\u001b[0m\u001b[1;33m\u001b[0m\u001b[0m\n\u001b[0m\u001b[0;32m     57\u001b[0m         \u001b[1;31m# for x in range(10):\u001b[0m\u001b[1;33m\u001b[0m\u001b[1;33m\u001b[0m\u001b[0m\n\u001b[0;32m     58\u001b[0m         \u001b[1;31m#   print random.randint(1,101)\u001b[0m\u001b[1;33m\u001b[0m\u001b[1;33m\u001b[0m\u001b[0m\n",
      "\u001b[1;32m~\\Anaconda3\\lib\\random.py\u001b[0m in \u001b[0;36mrandint\u001b[1;34m(self, a, b)\u001b[0m\n\u001b[0;32m    218\u001b[0m         \"\"\"\n\u001b[0;32m    219\u001b[0m \u001b[1;33m\u001b[0m\u001b[0m\n\u001b[1;32m--> 220\u001b[1;33m         \u001b[1;32mreturn\u001b[0m \u001b[0mself\u001b[0m\u001b[1;33m.\u001b[0m\u001b[0mrandrange\u001b[0m\u001b[1;33m(\u001b[0m\u001b[0ma\u001b[0m\u001b[1;33m,\u001b[0m \u001b[0mb\u001b[0m\u001b[1;33m+\u001b[0m\u001b[1;36m1\u001b[0m\u001b[1;33m)\u001b[0m\u001b[1;33m\u001b[0m\u001b[0m\n\u001b[0m\u001b[0;32m    221\u001b[0m \u001b[1;33m\u001b[0m\u001b[0m\n\u001b[0;32m    222\u001b[0m     def _randbelow(self, n, int=int, maxsize=1<<BPF, type=type,\n",
      "\u001b[1;32m~\\Anaconda3\\lib\\random.py\u001b[0m in \u001b[0;36mrandrange\u001b[1;34m(self, start, stop, step, _int)\u001b[0m\n\u001b[0;32m    182\u001b[0m         \u001b[0mistart\u001b[0m \u001b[1;33m=\u001b[0m \u001b[0m_int\u001b[0m\u001b[1;33m(\u001b[0m\u001b[0mstart\u001b[0m\u001b[1;33m)\u001b[0m\u001b[1;33m\u001b[0m\u001b[0m\n\u001b[0;32m    183\u001b[0m         \u001b[1;32mif\u001b[0m \u001b[0mistart\u001b[0m \u001b[1;33m!=\u001b[0m \u001b[0mstart\u001b[0m\u001b[1;33m:\u001b[0m\u001b[1;33m\u001b[0m\u001b[0m\n\u001b[1;32m--> 184\u001b[1;33m             \u001b[1;32mraise\u001b[0m \u001b[0mValueError\u001b[0m\u001b[1;33m(\u001b[0m\u001b[1;34m\"non-integer arg 1 for randrange()\"\u001b[0m\u001b[1;33m)\u001b[0m\u001b[1;33m\u001b[0m\u001b[0m\n\u001b[0m\u001b[0;32m    185\u001b[0m         \u001b[1;32mif\u001b[0m \u001b[0mstop\u001b[0m \u001b[1;32mis\u001b[0m \u001b[1;32mNone\u001b[0m\u001b[1;33m:\u001b[0m\u001b[1;33m\u001b[0m\u001b[0m\n\u001b[0;32m    186\u001b[0m             \u001b[1;32mif\u001b[0m \u001b[0mistart\u001b[0m \u001b[1;33m>\u001b[0m \u001b[1;36m0\u001b[0m\u001b[1;33m:\u001b[0m\u001b[1;33m\u001b[0m\u001b[0m\n",
      "\u001b[1;31mValueError\u001b[0m: non-integer arg 1 for randrange()"
     ]
    }
   ],
   "source": [
    "wew = NN(data = [1,2,3], label = \"label\", epoch = \"epoch\", momentum = \"momentum\", batch_size=\"bs\")\n",
    "# for i in range(100):\n",
    "#     wew.add(i)\n",
    "\n",
    "wew.add(10)\n",
    "wew.add(20)\n",
    "# wew.add(10)\n",
    "print (wew.n_hidden_layer)\n",
    "print (wew.hidden_layer)\n",
    "ar =[[1,2,3,5], [5,6,7,8]] \n",
    "\n",
    "print (\"wkwkwk\")\n",
    "wew.fit(ar, ar)\n"
   ]
  },
  {
   "cell_type": "code",
   "execution_count": 36,
   "metadata": {},
   "outputs": [],
   "source": [
    "ar =[[1,2,3,5], [5,6,7,8]] \n",
    "\n",
    "# wew.fit(ar, ar)"
   ]
  },
  {
   "cell_type": "code",
   "execution_count": 37,
   "metadata": {},
   "outputs": [
    {
     "name": "stdout",
     "output_type": "stream",
     "text": [
      "[[], [1, 2, 3], [10, 1, 100]]\n",
      "[[1, 2, 3], [10, 1, 100]]\n"
     ]
    }
   ],
   "source": [
    "mt = [[]]\n",
    "mt.append([1,2,3])\n",
    "mt.append([10,1,100])\n",
    "print (mt)\n",
    "mt.remove([])\n",
    "print (mt)"
   ]
  },
  {
   "cell_type": "code",
   "execution_count": 38,
   "metadata": {},
   "outputs": [
    {
     "name": "stdout",
     "output_type": "stream",
     "text": [
      "[0, 1, 2, 3, 4]\n",
      "5\n"
     ]
    }
   ],
   "source": [
    "num_node = 0\n",
    "input_node = 5\n",
    "input_array = []\n",
    "for i in range(input_node):\n",
    "    input_array.append(i)\n",
    "    num_node += 1\n",
    "print (input_array)\n",
    "print (num_node)"
   ]
  },
  {
   "cell_type": "code",
   "execution_count": 39,
   "metadata": {},
   "outputs": [],
   "source": [
    "# self.num_node = 0\n",
    "#         input_node = len(x[0])\n",
    "#         input_array = []\n",
    "#         for i in range(input_node):\n",
    "#             input_array.append(i)\n",
    "#             self.num_node += 1"
   ]
  }
 ],
 "metadata": {
  "kernelspec": {
   "display_name": "Python 3",
   "language": "python",
   "name": "python3"
  },
  "language_info": {
   "codemirror_mode": {
    "name": "ipython",
    "version": 3
   },
   "file_extension": ".py",
   "mimetype": "text/x-python",
   "name": "python",
   "nbconvert_exporter": "python",
   "pygments_lexer": "ipython3",
   "version": "3.6.3"
  }
 },
 "nbformat": 4,
 "nbformat_minor": 2
}
