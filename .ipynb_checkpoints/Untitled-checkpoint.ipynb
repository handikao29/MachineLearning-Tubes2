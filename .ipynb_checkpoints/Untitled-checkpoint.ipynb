{
 "cells": [
  {
   "cell_type": "code",
   "execution_count": 1,
   "metadata": {},
   "outputs": [],
   "source": [
    "class NN:\n",
    "\n",
    "    def __init__(self, data, label, epoch, momentum, batch_size):\n",
    "        self.data = data\n",
    "        self.label = label\n",
    "        self.epoch = epoch\n",
    "        self.momentum = momentum\n",
    "        self.batch_size = batch_size\n",
    "        self.n_hidden_layer = 0\n",
    "        self.hidden_layer = []\n",
    "\n",
    "    def add(self,unit):\n",
    "        if self.n_hidden_layer < 10:\n",
    "            self.hidden_layer.append(unit)\n",
    "            self.n_hidden_layer +=1\n",
    "\n",
    "    def fit(self, x, y):\n",
    "        self.array_of_node = []\n",
    "        input_node = len(x[0])\n",
    "        print (input_node)    \n"
   ]
  },
  {
   "cell_type": "code",
   "execution_count": 2,
   "metadata": {},
   "outputs": [
    {
     "name": "stdout",
     "output_type": "stream",
     "text": [
      "10\n",
      "[0, 1, 2, 3, 4, 5, 6, 7, 8, 9]\n"
     ]
    }
   ],
   "source": [
    "wew = NN(data = [1,2,3], label = \"label\", epoch = \"epoch\", momentum = \"momentum\", batch_size=\"bs\")\n",
    "for i in range(100):\n",
    "    wew.add(i)\n",
    "\n",
    "# wew.add(10)\n",
    "print (wew.n_hidden_layer)\n",
    "print (wew.hidden_layer)\n"
   ]
  },
  {
   "cell_type": "code",
   "execution_count": 5,
   "metadata": {},
   "outputs": [
    {
     "name": "stdout",
     "output_type": "stream",
     "text": [
      "4\n"
     ]
    }
   ],
   "source": [
    "ar =[[1,2,3,5], [5,6,7,8]] \n",
    "\n",
    "wew.fit(ar, ar)"
   ]
  },
  {
   "cell_type": "code",
   "execution_count": 7,
   "metadata": {},
   "outputs": [
    {
     "name": "stdout",
     "output_type": "stream",
     "text": [
      "[[], [1, 2, 3], [10, 1, 100]]\n",
      "[[1, 2, 3], [10, 1, 100]]\n"
     ]
    }
   ],
   "source": [
    "mt = [[]]\n",
    "mt.append([1,2,3])\n",
    "mt.append([10,1,100])\n",
    "print (mt)\n",
    "mt.remove([])\n",
    "print (mt)"
   ]
  },
  {
   "cell_type": "code",
   "execution_count": 8,
   "metadata": {},
   "outputs": [
    {
     "ename": "IndentationError",
     "evalue": "unexpected indent (<ipython-input-8-1243d29f86f0>, line 3)",
     "output_type": "error",
     "traceback": [
      "\u001b[1;36m  File \u001b[1;32m\"<ipython-input-8-1243d29f86f0>\"\u001b[1;36m, line \u001b[1;32m3\u001b[0m\n\u001b[1;33m    for i in range(input_node):\u001b[0m\n\u001b[1;37m    ^\u001b[0m\n\u001b[1;31mIndentationError\u001b[0m\u001b[1;31m:\u001b[0m unexpected indent\n"
     ]
    }
   ],
   "source": [
    "input_node = 5\n",
    "input_array = []\n",
    "for i in range(input_node):\n",
    "    input_array.append(i)\n",
    "    \n",
    "print (input_array)"
   ]
  }
 ],
 "metadata": {
  "kernelspec": {
   "display_name": "Python 3",
   "language": "python",
   "name": "python3"
  },
  "language_info": {
   "codemirror_mode": {
    "name": "ipython",
    "version": 3
   },
   "file_extension": ".py",
   "mimetype": "text/x-python",
   "name": "python",
   "nbconvert_exporter": "python",
   "pygments_lexer": "ipython3",
   "version": "3.6.3"
  }
 },
 "nbformat": 4,
 "nbformat_minor": 2
}
