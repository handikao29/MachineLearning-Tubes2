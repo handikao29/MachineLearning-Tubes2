{
 "cells": [
  {
   "cell_type": "code",
   "execution_count": 17,
   "metadata": {},
   "outputs": [],
   "source": [
    "class NN:\n",
    "\n",
    "    def __init__(self, data, label, epoch, momentum, batch_size):\n",
    "        self.data = data\n",
    "        self.label = label\n",
    "        self.epoch = epoch\n",
    "        self.momentum = momentum\n",
    "        self.batch_size = batch_size\n",
    "        self.n_hidden_layer = 0\n",
    "        self.hidden_layer = []\n",
    "\n",
    "    def add(self,unit):\n",
    "        if self.n_hidden_layer < 10:\n",
    "            self.hidden_layer.append(unit)\n",
    "            self.n_hidden_layer +=1\n"
   ]
  },
  {
   "cell_type": "code",
   "execution_count": 18,
   "metadata": {},
   "outputs": [
    {
     "name": "stdout",
     "output_type": "stream",
     "text": [
      "10\n",
      "[0, 1, 2, 3, 4, 5, 6, 7, 8, 9]\n"
     ]
    }
   ],
   "source": [
    "wew = NN(data = [1,2,3], label = \"label\", epoch = \"epoch\", momentum = \"momentum\", batch_size=\"bs\")\n",
    "for i in range(100):\n",
    "    wew.add(i)\n",
    "\n",
    "# wew.add(10)\n",
    "print (wew.n_hidden_layer)\n",
    "print (wew.hidden_layer)\n"
   ]
  }
 ],
 "metadata": {
  "kernelspec": {
   "display_name": "Python 3",
   "language": "python",
   "name": "python3"
  },
  "language_info": {
   "codemirror_mode": {
    "name": "ipython",
    "version": 3
   },
   "file_extension": ".py",
   "mimetype": "text/x-python",
   "name": "python",
   "nbconvert_exporter": "python",
   "pygments_lexer": "ipython3",
   "version": "3.6.3"
  }
 },
 "nbformat": 4,
 "nbformat_minor": 2
}
