{
 "cells": [
  {
   "cell_type": "code",
   "execution_count": 6,
   "metadata": {},
   "outputs": [],
   "source": [
    "from tensorflow.keras.models import Sequential\n",
    "from tensorflow.keras.layers import Dense\n",
    "\n",
    "model = Sequential()\n",
    "model.add(Dense(units=64, activation='relu', input_dim=100))\n",
    "model.add(Dense(units=10, activation='softmax'))"
   ]
  },
  {
   "cell_type": "code",
   "execution_count": 15,
   "metadata": {},
   "outputs": [
    {
     "data": {
      "text/plain": [
       "array([(b'sunny', 85., 85., b'FALSE', b'no'),\n",
       "       (b'sunny', 80., 90., b'TRUE', b'no'),\n",
       "       (b'overcast', 83., 86., b'FALSE', b'yes'),\n",
       "       (b'rainy', 70., 96., b'FALSE', b'yes'),\n",
       "       (b'rainy', 68., 80., b'FALSE', b'yes'),\n",
       "       (b'rainy', 65., 70., b'TRUE', b'no'),\n",
       "       (b'overcast', 64., 65., b'TRUE', b'yes'),\n",
       "       (b'sunny', 72., 95., b'FALSE', b'no'),\n",
       "       (b'sunny', 69., 70., b'FALSE', b'yes'),\n",
       "       (b'rainy', 75., 80., b'FALSE', b'yes'),\n",
       "       (b'sunny', 75., 70., b'TRUE', b'yes'),\n",
       "       (b'overcast', 72., 90., b'TRUE', b'yes'),\n",
       "       (b'overcast', 81., 75., b'FALSE', b'yes'),\n",
       "       (b'rainy', 71., 91., b'TRUE', b'no')],\n",
       "      dtype=[('outlook', 'S8'), ('temperature', '<f8'), ('humidity', '<f8'), ('windy', 'S5'), ('play', 'S3')])"
      ]
     },
     "execution_count": 15,
     "metadata": {},
     "output_type": "execute_result"
    }
   ],
   "source": [
    "from __future__ import division\n",
    "from scipy.io import arff\n",
    "import numpy as np\n",
    "import pandas as pd\n",
    "\n",
    "#Read the train dataset from csv file\n",
    "data, meta = arff.loadarff(\"weather.arff\")\n",
    "data"
   ]
  }
 ],
 "metadata": {
  "kernelspec": {
   "display_name": "Python 3",
   "language": "python",
   "name": "python3"
  },
  "language_info": {
   "codemirror_mode": {
    "name": "ipython",
    "version": 3
   },
   "file_extension": ".py",
   "mimetype": "text/x-python",
   "name": "python",
   "nbconvert_exporter": "python",
   "pygments_lexer": "ipython3",
   "version": "3.6.3"
  }
 },
 "nbformat": 4,
 "nbformat_minor": 2
}
