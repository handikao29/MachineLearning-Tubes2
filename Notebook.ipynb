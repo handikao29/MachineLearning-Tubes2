{
 "cells": [
  {
   "cell_type": "code",
   "execution_count": 1,
   "metadata": {},
   "outputs": [],
   "source": [
    "from tensorflow.keras.models import Sequential\n",
    "from tensorflow.keras.layers import Dense"
   ]
  },
  {
   "cell_type": "code",
   "execution_count": 2,
   "metadata": {},
   "outputs": [
    {
     "name": "stdout",
     "output_type": "stream",
     "text": [
      "[(b'sunny', 85., 85., b'FALSE', b'no')\n",
      " (b'sunny', 80., 90., b'TRUE', b'no')\n",
      " (b'overcast', 83., 86., b'FALSE', b'yes')\n",
      " (b'rainy', 70., 96., b'FALSE', b'yes')\n",
      " (b'rainy', 68., 80., b'FALSE', b'yes')\n",
      " (b'rainy', 65., 70., b'TRUE', b'no')\n",
      " (b'overcast', 64., 65., b'TRUE', b'yes')\n",
      " (b'sunny', 72., 95., b'FALSE', b'no')\n",
      " (b'sunny', 69., 70., b'FALSE', b'yes')\n",
      " (b'rainy', 75., 80., b'FALSE', b'yes')\n",
      " (b'sunny', 75., 70., b'TRUE', b'yes')\n",
      " (b'overcast', 72., 90., b'TRUE', b'yes')\n",
      " (b'overcast', 81., 75., b'FALSE', b'yes')\n",
      " (b'rainy', 71., 91., b'TRUE', b'no')]\n",
      "Dataset: weather\n",
      "\toutlook's type is nominal, range is ('sunny', 'overcast', 'rainy')\n",
      "\ttemperature's type is numeric\n",
      "\thumidity's type is numeric\n",
      "\twindy's type is nominal, range is ('TRUE', 'FALSE')\n",
      "\tplay's type is nominal, range is ('yes', 'no')\n",
      "\n"
     ]
    }
   ],
   "source": [
    "from __future__ import division\n",
    "from scipy.io import arff\n",
    "from numpy import array\n",
    "import numpy as np\n",
    "import pandas as pd\n",
    "\n",
    "#Read the train dataset from csv file\n",
    "data, meta = arff.loadarff(\"weather.arff\")\n",
    "print(data)\n",
    "print(meta)"
   ]
  },
  {
   "cell_type": "code",
   "execution_count": 3,
   "metadata": {
    "scrolled": true
   },
   "outputs": [
    {
     "name": "stdout",
     "output_type": "stream",
     "text": [
      "[[2 85 85 0]\n",
      " [2 80 90 1]\n",
      " [0 83 86 0]\n",
      " [1 70 96 0]\n",
      " [1 68 80 0]\n",
      " [1 65 70 1]\n",
      " [0 64 65 1]\n",
      " [2 72 95 0]\n",
      " [2 69 70 0]\n",
      " [1 75 80 0]\n",
      " [2 75 70 1]\n",
      " [0 72 90 1]\n",
      " [0 81 75 0]\n",
      " [1 71 91 1]]\n",
      "[0 0 1 1 1 0 1 0 1 1 1 1 1 0]\n"
     ]
    }
   ],
   "source": [
    "from sklearn.preprocessing import LabelEncoder\n",
    "\n",
    "train_csv = pd.read_csv(\"weather.csv\",header=0)\n",
    "array = np.array(train_csv)\n",
    "X = array[:,:-1]\n",
    "le = LabelEncoder()\n",
    "A = le.fit_transform(X[:,0])\n",
    "B = le.fit_transform(X[:,-1])\n",
    "y = le.fit_transform(array[:,-1])\n",
    "for i in range(0,len(X)):\n",
    "    X[i,0] = A[i]\n",
    "    X[i,-1] = B[i]\n",
    "    \n",
    "print(X)\n",
    "print(y)"
   ]
  },
  {
   "cell_type": "code",
   "execution_count": 4,
   "metadata": {},
   "outputs": [
    {
     "data": {
      "text/plain": [
       "array([[0, 81, 75, 0],\n",
       "       [0, 64, 65, 1],\n",
       "       [2, 69, 70, 0],\n",
       "       [0, 83, 86, 0],\n",
       "       [2, 75, 70, 1],\n",
       "       [1, 65, 70, 1],\n",
       "       [0, 72, 90, 1],\n",
       "       [1, 71, 91, 1],\n",
       "       [2, 80, 90, 1],\n",
       "       [2, 85, 85, 0],\n",
       "       [1, 68, 80, 0],\n",
       "       [1, 75, 80, 0]], dtype=object)"
      ]
     },
     "execution_count": 4,
     "metadata": {},
     "output_type": "execute_result"
    }
   ],
   "source": [
    "from sklearn.model_selection import train_test_split\n",
    "\n",
    "X_train, X_test, y_train, y_test = train_test_split(X, y, test_size=0.1, random_state=10)\n",
    "\n",
    "X_train"
   ]
  },
  {
   "cell_type": "code",
   "execution_count": 6,
   "metadata": {},
   "outputs": [
    {
     "name": "stdout",
     "output_type": "stream",
     "text": [
      "4\n"
     ]
    }
   ],
   "source": [
    "print (len(X[0]))"
   ]
  },
  {
   "cell_type": "code",
   "execution_count": null,
   "metadata": {
    "scrolled": false
   },
   "outputs": [],
   "source": [
    "model = Sequential()\n",
    "model.add(Dense(units=100, activation='sigmoid'))\n",
    "model.add(Dense(units=2, activation='sigmoid'))\n",
    "\n",
    "model.compile(loss='mean_squared_error', optimizer='sgd', metrics=['accuracy'])\n",
    "# model.fit(X, y, epochs=150, batch_size=10,validation_split=0.1)\n",
    "model.fit(X_train, y_train, epochs=150)"
   ]
  },
  {
   "cell_type": "code",
   "execution_count": null,
   "metadata": {},
   "outputs": [],
   "source": [
    "val_loss, val_acc = model.evaluate(X_test, y_test)\n",
    "print (val_loss, val_acc)"
   ]
  }
 ],
 "metadata": {
  "kernelspec": {
   "display_name": "Python 3",
   "language": "python",
   "name": "python3"
  },
  "language_info": {
   "codemirror_mode": {
    "name": "ipython",
    "version": 3
   },
   "file_extension": ".py",
   "mimetype": "text/x-python",
   "name": "python",
   "nbconvert_exporter": "python",
   "pygments_lexer": "ipython3",
   "version": "3.6.3"
  }
 },
 "nbformat": 4,
 "nbformat_minor": 2
}
